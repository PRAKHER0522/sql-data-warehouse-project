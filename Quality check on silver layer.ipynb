{
 "cells": [
  {
   "cell_type": "code",
   "execution_count": 0,
   "metadata": {
    "application/vnd.databricks.v1+cell": {
     "cellMetadata": {
      "byteLimit": 2048000,
      "rowLimit": 10000
     },
     "inputWidgets": {},
     "nuid": "836c6405-308b-4b29-a7fd-b7c385bde87f",
     "showTitle": false,
     "tableResultSettingsMap": {},
     "title": ""
    }
   },
   "outputs": [],
   "source": [
    "def stop_on_result_rows(statement):\n",
    "    \"\"\"\n",
    "    raise an exception if the statement returns any rows\n",
    "    \"\"\"\n",
    "    print(statement)\n",
    "    df_check = spark.sql(statement)\n",
    "    # df_check.display()\n",
    "    if df_check.count() > 0:\n",
    "        raise Exception(f\"statement returned  rows\")"
   ]
  },
  {
   "cell_type": "code",
   "execution_count": 0,
   "metadata": {
    "application/vnd.databricks.v1+cell": {
     "cellMetadata": {
      "byteLimit": 2048000,
      "rowLimit": 10000
     },
     "inputWidgets": {},
     "nuid": "2d2bfb27-1909-417b-ade9-b33e514fa7ad",
     "showTitle": false,
     "tableResultSettingsMap": {},
     "title": ""
    }
   },
   "outputs": [],
   "source": [
    "def stop_on_nulls(statement):\n",
    "    \"\"\"\n",
    "    raise an exception if the statement returns any rows\n",
    "    \"\"\"\n",
    "    print(statement)\n",
    "    df_check = spark.sql(statement)\n",
    "    # df_check.display()\n",
    "    if df_check.count() > 0:\n",
    "        raise Exception(f\"statement returned  rows\")"
   ]
  },
  {
   "cell_type": "code",
   "execution_count": 0,
   "metadata": {
    "application/vnd.databricks.v1+cell": {
     "cellMetadata": {
      "byteLimit": 2048000,
      "rowLimit": 10000
     },
     "inputWidgets": {},
     "nuid": "afd0fc68-3f9b-41ae-99ce-d2fe3fc94428",
     "showTitle": false,
     "tableResultSettingsMap": {},
     "title": ""
    }
   },
   "outputs": [],
   "source": [
    "# #common variables\n",
    "\n",
    "silver_schema = 'silver'\n",
    "\n",
    "#######\n",
    "crm_cust_info_table_name = 'crm_cust_info'\n",
    "crm_cust_info_column_name = 'cst_id'\n",
    "######33\n",
    "\n"
   ]
  },
  {
   "cell_type": "code",
   "execution_count": 0,
   "metadata": {
    "application/vnd.databricks.v1+cell": {
     "cellMetadata": {
      "byteLimit": 2048000,
      "rowLimit": 10000
     },
     "inputWidgets": {},
     "nuid": "8c6d0672-633a-407e-adef-103945725e9a",
     "showTitle": false,
     "tableResultSettingsMap": {},
     "title": ""
    }
   },
   "outputs": [],
   "source": [
    "def grain_check_crm_cust_info(crm_cust_info_table_name, crm_cust_info_column_name):\n",
    "    # Assuming column_name is a list, join it into a string\n",
    "    statement =  f\"\"\"SELECT {crm_cust_info_column_name},count(*) FROM {silver_schema}.{crm_cust_info_table_name} group by {crm_cust_info_column_name} having count(*) > 1\"\"\"\n",
    "    print(statement)\n",
    "    return statement"
   ]
  },
  {
   "cell_type": "code",
   "execution_count": 0,
   "metadata": {
    "application/vnd.databricks.v1+cell": {
     "cellMetadata": {
      "byteLimit": 2048000,
      "rowLimit": 10000
     },
     "inputWidgets": {},
     "nuid": "5eeaf0ac-a3ca-44e1-9f63-6a3c1b77fd86",
     "showTitle": false,
     "tableResultSettingsMap": {},
     "title": ""
    }
   },
   "outputs": [],
   "source": [
    "stop_on_result_rows(grain_check_crm_cust_info(f'{crm_cust_info_table_name}', crm_cust_info_column_name))"
   ]
  },
  {
   "cell_type": "code",
   "execution_count": 0,
   "metadata": {
    "application/vnd.databricks.v1+cell": {
     "cellMetadata": {
      "byteLimit": 2048000,
      "rowLimit": 10000
     },
     "inputWidgets": {},
     "nuid": "be51256e-300f-4683-868c-0d3e20fd9b4b",
     "showTitle": false,
     "tableResultSettingsMap": {},
     "title": ""
    }
   },
   "outputs": [],
   "source": [
    "def null_check_crm_cust_info(crm_cust_info_table_name, crm_cust_info_column_name):\n",
    "    # Assuming column_name is a list, join it into a string\n",
    "    statement =  f\"\"\"SELECT *FROM {silver_schema}.{crm_cust_info_table_name} where {crm_cust_info_column_name} is  null\"\"\"\n",
    "    print(statement)\n",
    "    return statement"
   ]
  },
  {
   "cell_type": "code",
   "execution_count": 0,
   "metadata": {
    "application/vnd.databricks.v1+cell": {
     "cellMetadata": {
      "byteLimit": 2048000,
      "rowLimit": 10000
     },
     "inputWidgets": {},
     "nuid": "64fc0cc0-bab9-4c40-821c-a259e7c139ef",
     "showTitle": false,
     "tableResultSettingsMap": {},
     "title": ""
    }
   },
   "outputs": [],
   "source": [
    "stop_on_result_rows(null_check_crm_cust_info(f'{crm_cust_info_table_name}', crm_cust_info_column_name))"
   ]
  }
 ],
 "metadata": {
  "application/vnd.databricks.v1+notebook": {
   "computePreferences": null,
   "dashboards": [],
   "environmentMetadata": {
    "base_environment": "",
    "environment_version": "2"
   },
   "inputWidgetPreferences": null,
   "language": "python",
   "notebookMetadata": {
    "mostRecentlyExecutedCommandWithImplicitDF": {
     "commandId": 5331275764811740,
     "dataframes": [
      "_sqldf"
     ]
    },
    "pythonIndentUnit": 4
   },
   "notebookName": "Quality check on silver layer",
   "widgets": {}
  },
  "language_info": {
   "name": "python"
  }
 },
 "nbformat": 4,
 "nbformat_minor": 0
}
