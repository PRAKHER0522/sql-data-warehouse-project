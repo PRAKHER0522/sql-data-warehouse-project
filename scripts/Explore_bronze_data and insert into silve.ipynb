{
 "cells": [
  {
   "cell_type": "code",
   "execution_count": 0,
   "metadata": {
    "application/vnd.databricks.v1+cell": {
     "cellMetadata": {
      "byteLimit": 2048000,
      "rowLimit": 10000
     },
     "inputWidgets": {},
     "nuid": "59a60e55-49ce-4421-a8c8-002df8b5a944",
     "showTitle": false,
     "tableResultSettingsMap": {},
     "title": ""
    }
   },
   "outputs": [],
   "source": [
    "%sql\n",
    "select * from bronze.crm_cust_info "
   ]
  },
  {
   "cell_type": "code",
   "execution_count": 0,
   "metadata": {
    "application/vnd.databricks.v1+cell": {
     "cellMetadata": {
      "byteLimit": 2048000,
      "rowLimit": 10000
     },
     "inputWidgets": {},
     "nuid": "94a57ec5-bc17-466a-b432-d27c2a7fda4b",
     "showTitle": false,
     "tableResultSettingsMap": {},
     "title": ""
    }
   },
   "outputs": [],
   "source": [
    "---CHECK FOR NULLS OR DUPLICATE IN PRIMARY KEY\n",
    "---EXPECTED NULL"
   ]
  },
  {
   "cell_type": "code",
   "execution_count": 0,
   "metadata": {
    "application/vnd.databricks.v1+cell": {
     "cellMetadata": {
      "byteLimit": 2048000,
      "rowLimit": 10000
     },
     "inputWidgets": {},
     "nuid": "7820efe4-12a4-4e21-b055-1d22c1a0ade2",
     "showTitle": false,
     "tableResultSettingsMap": {},
     "title": ""
    }
   },
   "outputs": [],
   "source": [
    "%sql\n",
    "select cst_id,count(*) from bronze.crm_cust_info group by cst_id having count(*) > 1 or cst_id is null"
   ]
  },
  {
   "cell_type": "code",
   "execution_count": 0,
   "metadata": {
    "application/vnd.databricks.v1+cell": {
     "cellMetadata": {
      "byteLimit": 2048000,
      "rowLimit": 10000
     },
     "inputWidgets": {},
     "nuid": "f58daa4f-b223-4b0a-a586-190847d1efc5",
     "showTitle": false,
     "tableResultSettingsMap": {},
     "title": ""
    }
   },
   "outputs": [],
   "source": [
    "---query to data transformation and cleansing\n",
    "---remove duplicate from primary key\n",
    "---remove trim spaces\n",
    "---data standardization & consistency"
   ]
  },
  {
   "cell_type": "code",
   "execution_count": 0,
   "metadata": {
    "application/vnd.databricks.v1+cell": {
     "cellMetadata": {
      "byteLimit": 2048000,
      "rowLimit": 10000
     },
     "inputWidgets": {},
     "nuid": "b751b609-5b50-4c62-a38b-1bf9372a9d33",
     "showTitle": false,
     "tableResultSettingsMap": {
      "0": {
       "dataGridStateBlob": "{\"version\":1,\"tableState\":{\"columnPinning\":{\"left\":[\"#row_number#\"],\"right\":[]},\"columnSizing\":{},\"columnVisibility\":{}},\"settings\":{\"columns\":{}},\"syncTimestamp\":1752419934670}",
       "filterBlob": null,
       "queryPlanFiltersBlob": null,
       "tableResultIndex": 0
      }
     },
     "title": ""
    }
   },
   "outputs": [],
   "source": [
    "%sql\n",
    "select * from (\n",
    "select *,row_number() over(partition by cst_id order by cst_create_date desc) as flag_last from bronze.crm_cust_info \n",
    ")\n",
    "where flag_last = 1 "
   ]
  },
  {
   "cell_type": "markdown",
   "metadata": {
    "application/vnd.databricks.v1+cell": {
     "cellMetadata": {
      "byteLimit": 2048000,
      "rowLimit": 10000
     },
     "inputWidgets": {},
     "nuid": "0246d4d7-c8dd-44a9-ab6c-655d163274a9",
     "showTitle": false,
     "tableResultSettingsMap": {},
     "title": ""
    }
   },
   "source": [
    "#### SILVER LAYER TABLE INGESTION AND QC"
   ]
  },
  {
   "cell_type": "markdown",
   "metadata": {
    "application/vnd.databricks.v1+cell": {
     "cellMetadata": {
      "byteLimit": 2048000,
      "rowLimit": 10000
     },
     "inputWidgets": {},
     "nuid": "bc87b9bd-6323-491b-8946-7f8f9b60dc83",
     "showTitle": false,
     "tableResultSettingsMap": {},
     "title": ""
    }
   },
   "source": [
    "### crm_cust_info"
   ]
  },
  {
   "cell_type": "code",
   "execution_count": 0,
   "metadata": {
    "application/vnd.databricks.v1+cell": {
     "cellMetadata": {
      "byteLimit": 2048000,
      "rowLimit": 10000
     },
     "inputWidgets": {},
     "nuid": "bbf17e3a-be5a-49f4-848b-10219793d89f",
     "showTitle": false,
     "tableResultSettingsMap": {},
     "title": ""
    }
   },
   "outputs": [],
   "source": [
    "%sql\n",
    "insert overwrite silver.crm_cust_info (\n",
    "    cst_id, cst_key, cst_firstname, cst_lastname, cst_marital_status, cst_gndr, cst_create_date\n",
    "  )\n",
    "  select\n",
    "    cst_id,\n",
    "    cst_key,\n",
    "    trim(cst_firstname) as cst_firstname,\n",
    "    trim(cst_lastname) as cst_lastname,\n",
    "    CASE\n",
    "      WHEN UPPER(cst_marital_status) = 'S' then 'Single'\n",
    "      when UPPER(cst_marital_status) = 'M' then 'Married'\n",
    "      ELSE 'n/a'\n",
    "    END as cst_marital_status,---normalize marital status values to readable format\n",
    "    CASE\n",
    "      WHEN UPPER(cst_gndr) = 'F' then 'Female'\n",
    "      when UPPER(cst_gndr) = 'M' then 'Male'\n",
    "      ELSE 'n/a' ---handling missing data\n",
    "    END as cst_gndr, ---normalize gender values to readable format\n",
    "    cst_create_date\n",
    "  from\n",
    "    (\n",
    "      select\n",
    "        *,\n",
    "        row_number() over (partition by cst_id order by cst_create_date desc) as flag_last\n",
    "      from\n",
    "        bronze.crm_cust_info\n",
    "    )\n",
    "  where\n",
    "    flag_last = 1\n",
    "    and cst_id is not null --select the most recent record per customer(removge duplicate) and remove null"
   ]
  },
  {
   "cell_type": "code",
   "execution_count": 0,
   "metadata": {
    "application/vnd.databricks.v1+cell": {
     "cellMetadata": {
      "byteLimit": 2048000,
      "rowLimit": 10000
     },
     "inputWidgets": {},
     "nuid": "27109681-eb5b-413d-8b4c-5fcde75b1b36",
     "showTitle": false,
     "tableResultSettingsMap": {},
     "title": ""
    }
   },
   "outputs": [],
   "source": [
    "%sql\n",
    "select * from silver.crm_cust_info"
   ]
  },
  {
   "cell_type": "markdown",
   "metadata": {
    "application/vnd.databricks.v1+cell": {
     "cellMetadata": {
      "byteLimit": 2048000,
      "rowLimit": 10000
     },
     "inputWidgets": {},
     "nuid": "125cea67-c278-45f5-b8c3-14ee4fe36efa",
     "showTitle": false,
     "tableResultSettingsMap": {},
     "title": ""
    }
   },
   "source": [
    "\n",
    "### crm_prd_info"
   ]
  },
  {
   "cell_type": "code",
   "execution_count": 0,
   "metadata": {
    "application/vnd.databricks.v1+cell": {
     "cellMetadata": {
      "byteLimit": 2048000,
      "rowLimit": 10000
     },
     "inputWidgets": {},
     "nuid": "d59818f4-bee3-4df9-b661-052446e1a0c8",
     "showTitle": false,
     "tableResultSettingsMap": {},
     "title": ""
    }
   },
   "outputs": [],
   "source": [
    "%sql\n",
    "select * from bronze.crm_prd_info"
   ]
  },
  {
   "cell_type": "code",
   "execution_count": 0,
   "metadata": {
    "application/vnd.databricks.v1+cell": {
     "cellMetadata": {
      "byteLimit": 2048000,
      "rowLimit": 10000
     },
     "inputWidgets": {},
     "nuid": "99fbc7c4-9793-4891-9058-87016ea9d7d4",
     "showTitle": false,
     "tableResultSettingsMap": {},
     "title": ""
    }
   },
   "outputs": [],
   "source": [
    "%sql\n",
    "--prd_id is primary key\n",
    "--check for null and duplicates in primary key\n",
    "select prd_id,count(*) from bronze.crm_prd_info group by prd_id having count(*)> 1 or prd_id is null"
   ]
  },
  {
   "cell_type": "code",
   "execution_count": 0,
   "metadata": {
    "application/vnd.databricks.v1+cell": {
     "cellMetadata": {
      "byteLimit": 2048000,
      "rowLimit": 10000
     },
     "inputWidgets": {},
     "nuid": "3c1847a7-b6f5-4410-af9a-7635f81dd649",
     "showTitle": false,
     "tableResultSettingsMap": {
      "0": {
       "dataGridStateBlob": "{\"version\":1,\"tableState\":{\"columnPinning\":{\"left\":[\"#row_number#\"],\"right\":[]},\"columnSizing\":{},\"columnVisibility\":{}},\"settings\":{\"columns\":{}},\"syncTimestamp\":1752505330901}",
       "filterBlob": null,
       "queryPlanFiltersBlob": null,
       "tableResultIndex": 0
      }
     },
     "title": ""
    }
   },
   "outputs": [],
   "source": [
    "\n",
    "%sql\n",
    "--check for unwanted space\n",
    "select prd_id,\n",
    "prd_key,\n",
    "replace(substring(prd_key,1,5),'-','_') as cat_id,\n",
    "replace(substring(prd_key,7,length(prd_key)),'-','_') as prd_key,\n",
    "prd_nm,\n",
    "prd_cost,\n",
    "prd_line,\n",
    "prd_start_dt,\n",
    "prd_end_dt   from bronze.crm_prd_info\n",
    "where prd_nm != trim(prd_nm)"
   ]
  },
  {
   "cell_type": "code",
   "execution_count": 0,
   "metadata": {
    "application/vnd.databricks.v1+cell": {
     "cellMetadata": {
      "byteLimit": 2048000,
      "rowLimit": 10000
     },
     "inputWidgets": {},
     "nuid": "1161d96a-7840-4ce0-88fb-6e728f3e34d0",
     "showTitle": false,
     "tableResultSettingsMap": {},
     "title": ""
    }
   },
   "outputs": [],
   "source": [
    "%sql\n",
    "---check for nulls or negative number\n",
    "---Expected :No result\n",
    "select prd_id,\n",
    "prd_key,\n",
    "replace(substring(prd_key,1,5),'-','_') as cat_id,\n",
    "replace(substring(prd_key,7,length(prd_key)),'-','_') as prd_key,\n",
    "prd_nm,\n",
    "prd_cost,\n",
    "prd_line,\n",
    "prd_start_dt,\n",
    "prd_end_dt   from bronze.crm_prd_info\n",
    "where prd_cost <= 0 or prd_cost is null\n",
    "---Since we have null value as per business we need to make it 0\n",
    "    "
   ]
  },
  {
   "cell_type": "code",
   "execution_count": 0,
   "metadata": {
    "application/vnd.databricks.v1+cell": {
     "cellMetadata": {
      "byteLimit": 2048000,
      "rowLimit": 10000
     },
     "inputWidgets": {},
     "nuid": "053a4b73-c016-4269-a19e-c8b05823bcc5",
     "showTitle": false,
     "tableResultSettingsMap": {},
     "title": ""
    }
   },
   "outputs": [],
   "source": [
    "---Need to check for abbrevation change or not like we did for prd_lines\n",
    "--Data standardization & consistency\n",
    "select prd_id,\n",
    "prd_key,\n",
    "replace(substring(prd_key,1,5),'-','_') as cat_id,\n",
    "replace(substring(prd_key,7,length(prd_key)),'-','_') as prd_key,\n",
    "prd_nm,\n",
    "coalesce(prd_cost,0) as prd_cost,\n",
    "case upper(trim(prd_line)) \n",
    "when 'M' then 'Mountain'\n",
    "when 'R' then 'Road'\n",
    "when 'S' then 'other Sales'\n",
    "when 'T' then 'Touring'\n",
    "else 'n/a' end as prd_line,\n",
    "prd_start_dt,\n",
    "prd_end_dt   from bronze.crm_prd_info\n",
    "where prd_cost <= 0 or prd_cost is null\n"
   ]
  },
  {
   "cell_type": "code",
   "execution_count": 0,
   "metadata": {
    "application/vnd.databricks.v1+cell": {
     "cellMetadata": {
      "byteLimit": 2048000,
      "rowLimit": 10000
     },
     "inputWidgets": {},
     "nuid": "739b6f93-94af-4b97-ad94-da8f45dd853d",
     "showTitle": false,
     "tableResultSettingsMap": {
      "0": {
       "dataGridStateBlob": "{\"version\":1,\"tableState\":{\"columnPinning\":{\"left\":[\"#row_number#\"],\"right\":[]},\"columnSizing\":{\"prd_key\":159},\"columnVisibility\":{}},\"settings\":{\"columns\":{}},\"syncTimestamp\":1752507342408}",
       "filterBlob": null,
       "queryPlanFiltersBlob": null,
       "tableResultIndex": 0
      }
     },
     "title": ""
    }
   },
   "outputs": [],
   "source": [
    "-- check for invalid date orders\n",
    "---start date < end date\n",
    "---end date should be small to start date of next recird against same id\n",
    "select prd_id,\n",
    "prd_key,\n",
    "prd_nm,\n",
    "prd_start_dt,\n",
    "prd_end_dt ,\n",
    "lead(prd_start_dt) over (partition by prd_key order by prd_start_dt)-1 as prd_end_dt_test\n",
    "  from bronze.crm_prd_info\n",
    "where  prd_key in ('AC-HE-HL-U509-R' , 'AC-HE-HL-U509')\n"
   ]
  },
  {
   "cell_type": "code",
   "execution_count": 0,
   "metadata": {
    "application/vnd.databricks.v1+cell": {
     "cellMetadata": {
      "byteLimit": 2048000,
      "rowLimit": 10000
     },
     "inputWidgets": {},
     "nuid": "377a313f-96c1-4fae-be17-014d42873d48",
     "showTitle": false,
     "tableResultSettingsMap": {},
     "title": ""
    }
   },
   "outputs": [],
   "source": [
    "-- check for invalid date orders\n",
    "select prd_id,\n",
    "prd_key,\n",
    "replace(substring(prd_key,1,5),'-','_') as cat_id,\n",
    "replace(substring(prd_key,7,length(prd_key)),'-','_') as prd_key,\n",
    "prd_nm,\n",
    "coalesce(prd_cost,0) as prd_cost,\n",
    "case upper(trim(prd_line)) \n",
    "when 'M' then 'Mountain'\n",
    "when 'R' then 'Road'\n",
    "when 'S' then 'other Sales'\n",
    "when 'T' then 'Touring'\n",
    "else 'n/a' end as prd_line,\n",
    "prd_start_dt,\n",
    "lead(prd_start_dt) over (partition by prd_key order by prd_start_dt)-1 as prd_end_dt   \n",
    "from bronze.crm_prd_info\n",
    "\n"
   ]
  },
  {
   "cell_type": "markdown",
   "metadata": {
    "application/vnd.databricks.v1+cell": {
     "cellMetadata": {
      "byteLimit": 2048000,
      "rowLimit": 10000
     },
     "inputWidgets": {},
     "nuid": "a7409df6-9e78-45e5-a246-befb9017f794",
     "showTitle": false,
     "tableResultSettingsMap": {},
     "title": ""
    }
   },
   "source": [
    "### > - crm_prd_info"
   ]
  },
  {
   "cell_type": "code",
   "execution_count": 0,
   "metadata": {
    "application/vnd.databricks.v1+cell": {
     "cellMetadata": {
      "byteLimit": 2048000,
      "rowLimit": 10000
     },
     "inputWidgets": {},
     "nuid": "51f651f0-1739-4177-8862-df89d91131bf",
     "showTitle": false,
     "tableResultSettingsMap": {},
     "title": ""
    }
   },
   "outputs": [],
   "source": [
    "--Modify table defination\n",
    "CREATE OR REPLACE TABLE silver.crm_prd_info (\n",
    "  prd_id INT,\n",
    "  cat_id VARCHAR(50),\n",
    "  prd_key VARCHAR(50),\n",
    "  prd_nm VARCHAR(50),\n",
    "  prd_cost INT,\n",
    "  prd_line VARCHAR(50),\n",
    "  prd_start_dt TIMESTAMP,\n",
    "  prd_end_dt TIMESTAMP,\n",
    "  dwh_creat_date TIMESTAMP DEFAULT current_timestamp())\n",
    "USING delta\n",
    "TBLPROPERTIES (\n",
    "  'delta.columnMapping.mode' = 'name',\n",
    "  'delta.enableDeletionVectors' = 'true',\n",
    "  'delta.feature.allowColumnDefaults' = 'supported',\n",
    "  'delta.feature.appendOnly' = 'supported',\n",
    "  'delta.feature.changeDataFeed' = 'supported',\n",
    "  'delta.feature.checkConstraints' = 'supported',\n",
    "  'delta.feature.columnMapping' = 'supported',\n",
    "  'delta.feature.deletionVectors' = 'supported',\n",
    "  'delta.feature.generatedColumns' = 'supported',\n",
    "  'delta.feature.invariants' = 'supported',\n",
    "  'delta.minReaderVersion' = '3',\n",
    "  'delta.minWriterVersion' = '7')\n"
   ]
  },
  {
   "cell_type": "markdown",
   "metadata": {
    "application/vnd.databricks.v1+cell": {
     "cellMetadata": {
      "byteLimit": 2048000,
      "rowLimit": 10000
     },
     "inputWidgets": {},
     "nuid": "c208b013-7dbb-401d-86c7-ab195cef7892",
     "showTitle": false,
     "tableResultSettingsMap": {},
     "title": ""
    }
   },
   "source": [
    "\n",
    "## Data insert into silver table\n",
    "\n",
    "- > Data Transformation \n",
    "- Deriverd columns \n",
    "> - Extract category id \n",
    "> - Extract product key\n",
    "- Handling missing values\n",
    "> - is null to 0\n",
    "- Data normalization\n",
    "> - Map product lines code to descriptive values\n",
    "- Data type casting\n",
    "> - convert to date\n",
    "> - Data enrichment > add new data for data anlsysis like prd_end_date using lead()"
   ]
  },
  {
   "cell_type": "code",
   "execution_count": 0,
   "metadata": {
    "application/vnd.databricks.v1+cell": {
     "cellMetadata": {
      "byteLimit": 2048000,
      "rowLimit": 10000
     },
     "inputWidgets": {},
     "nuid": "e2a0e4de-b4e5-405a-a554-580790027ff6",
     "showTitle": false,
     "tableResultSettingsMap": {},
     "title": ""
    }
   },
   "outputs": [],
   "source": [
    "insert overwrite silver.crm_prd_info(prd_id,cat_id,prd_key,prd_nm,prd_cost,prd_line,prd_start_dt,prd_end_dt) \n",
    "select prd_id,\n",
    "replace(substring(prd_key,1,5),'-','_') as cat_id,\n",
    "replace(substring(prd_key,7,length(prd_key)),'_','-') as prd_key,\n",
    "prd_nm,\n",
    "coalesce(prd_cost,0) as prd_cost,\n",
    "case upper(trim(prd_line)) \n",
    "when 'M' then 'Mountain'\n",
    "when 'R' then 'Road'\n",
    "when 'S' then 'other Sales'\n",
    "when 'T' then 'Touring'\n",
    "else 'n/a' end as prd_line,\n",
    "prd_start_dt,\n",
    "lead(prd_start_dt) over (partition by prd_key order by prd_start_dt)-1 as prd_end_dt   \n",
    "from bronze.crm_prd_info\n",
    "\n"
   ]
  },
  {
   "cell_type": "code",
   "execution_count": 0,
   "metadata": {
    "application/vnd.databricks.v1+cell": {
     "cellMetadata": {
      "byteLimit": 2048000,
      "rowLimit": 10000
     },
     "inputWidgets": {},
     "nuid": "e17fc51c-35c4-4f42-b52a-c9ff65947db0",
     "showTitle": false,
     "tableResultSettingsMap": {
      "0": {
       "dataGridStateBlob": "{\"version\":1,\"tableState\":{\"columnPinning\":{\"left\":[\"#row_number#\"],\"right\":[]},\"columnSizing\":{},\"columnVisibility\":{}},\"settings\":{\"columns\":{}},\"syncTimestamp\":1752510504274}",
       "filterBlob": null,
       "queryPlanFiltersBlob": null,
       "tableResultIndex": 0
      }
     },
     "title": ""
    }
   },
   "outputs": [],
   "source": [
    "SELECT * FROM SILVER.crm_prd_info"
   ]
  },
  {
   "cell_type": "markdown",
   "metadata": {
    "application/vnd.databricks.v1+cell": {
     "cellMetadata": {
      "byteLimit": 2048000,
      "rowLimit": 10000
     },
     "inputWidgets": {},
     "nuid": "fe01904a-50d7-40d9-8b7d-d1fda105cc4f",
     "showTitle": false,
     "tableResultSettingsMap": {},
     "title": ""
    }
   },
   "source": [
    "## Quality Check of silver Table"
   ]
  },
  {
   "cell_type": "markdown",
   "metadata": {
    "application/vnd.databricks.v1+cell": {
     "cellMetadata": {
      "byteLimit": 2048000,
      "rowLimit": 10000
     },
     "inputWidgets": {},
     "nuid": "70216362-f7cc-4fc4-8277-483c45628c22",
     "showTitle": false,
     "tableResultSettingsMap": {},
     "title": ""
    }
   },
   "source": [
    "##### Check for primary key\n",
    "\n"
   ]
  },
  {
   "cell_type": "code",
   "execution_count": 0,
   "metadata": {
    "application/vnd.databricks.v1+cell": {
     "cellMetadata": {
      "byteLimit": 2048000,
      "rowLimit": 10000
     },
     "inputWidgets": {},
     "nuid": "f0f691ba-7cd6-4afe-8c24-a7d08262019e",
     "showTitle": false,
     "tableResultSettingsMap": {},
     "title": ""
    }
   },
   "outputs": [],
   "source": [
    "%sql\n",
    "select\n",
    "  prd_id,\n",
    "  count(*)\n",
    "from\n",
    "  silver.crm_prd_info\n",
    "group by\n",
    "  prd_id\n",
    "having\n",
    "  count(*) > 1\n",
    "  or prd_id is null"
   ]
  },
  {
   "cell_type": "markdown",
   "metadata": {
    "application/vnd.databricks.v1+cell": {
     "cellMetadata": {
      "byteLimit": 2048000,
      "rowLimit": 10000
     },
     "inputWidgets": {},
     "nuid": "fcd389e1-89f3-4c6c-8e9d-d0384863cfab",
     "showTitle": false,
     "tableResultSettingsMap": {},
     "title": ""
    }
   },
   "source": [
    "##### check for unwanted spaces"
   ]
  },
  {
   "cell_type": "code",
   "execution_count": 0,
   "metadata": {
    "application/vnd.databricks.v1+cell": {
     "cellMetadata": {
      "byteLimit": 2048000,
      "rowLimit": 10000
     },
     "inputWidgets": {},
     "nuid": "56f2d941-875d-4cf3-b269-af37cdcd7ecd",
     "showTitle": false,
     "tableResultSettingsMap": {},
     "title": ""
    }
   },
   "outputs": [],
   "source": [
    "%sql\n",
    "select\n",
    "  prd_nm\n",
    "from\n",
    "  silver.crm_prd_info\n",
    "where prd_nm != TRIM(prd_nm)"
   ]
  },
  {
   "cell_type": "markdown",
   "metadata": {
    "application/vnd.databricks.v1+cell": {
     "cellMetadata": {
      "byteLimit": 2048000,
      "rowLimit": 10000
     },
     "inputWidgets": {},
     "nuid": "766a596c-d276-4660-a5d9-3225c08fef9e",
     "showTitle": false,
     "tableResultSettingsMap": {},
     "title": ""
    }
   },
   "source": [
    "##### Check for Nulls or Negative Numbers"
   ]
  },
  {
   "cell_type": "code",
   "execution_count": 0,
   "metadata": {
    "application/vnd.databricks.v1+cell": {
     "cellMetadata": {
      "byteLimit": 2048000,
      "rowLimit": 10000
     },
     "inputWidgets": {},
     "nuid": "aca80c48-5e7d-4b26-9332-b949eed3a0c3",
     "showTitle": false,
     "tableResultSettingsMap": {},
     "title": ""
    }
   },
   "outputs": [],
   "source": [
    "select prd_cost from   silver.crm_prd_info\n",
    "where  prd_cost < 0 OR prd_cost is null"
   ]
  },
  {
   "cell_type": "markdown",
   "metadata": {
    "application/vnd.databricks.v1+cell": {
     "cellMetadata": {
      "byteLimit": 2048000,
      "rowLimit": 10000
     },
     "inputWidgets": {},
     "nuid": "f435da28-2cb1-432f-967c-c4476d97f21b",
     "showTitle": false,
     "tableResultSettingsMap": {},
     "title": ""
    }
   },
   "source": [
    "##### Data standardization & consistency"
   ]
  },
  {
   "cell_type": "code",
   "execution_count": 0,
   "metadata": {
    "application/vnd.databricks.v1+cell": {
     "cellMetadata": {
      "byteLimit": 2048000,
      "rowLimit": 10000
     },
     "inputWidgets": {},
     "nuid": "ea0e3639-4156-4a1d-b281-ce392445b1f3",
     "showTitle": false,
     "tableResultSettingsMap": {},
     "title": ""
    }
   },
   "outputs": [],
   "source": [
    "select distinct prd_line from silver.crm_prd_info"
   ]
  },
  {
   "cell_type": "markdown",
   "metadata": {
    "application/vnd.databricks.v1+cell": {
     "cellMetadata": {
      "byteLimit": 2048000,
      "rowLimit": 10000
     },
     "inputWidgets": {},
     "nuid": "65937d2d-a0f1-4517-9244-150481d4f2d7",
     "showTitle": false,
     "tableResultSettingsMap": {},
     "title": ""
    }
   },
   "source": [
    "\n",
    "##### Check for invalid data orders\n",
    "\n"
   ]
  },
  {
   "cell_type": "code",
   "execution_count": 0,
   "metadata": {
    "application/vnd.databricks.v1+cell": {
     "cellMetadata": {
      "byteLimit": 2048000,
      "rowLimit": 10000
     },
     "inputWidgets": {},
     "nuid": "48dea6d7-c5f4-4c04-a9ac-21da42c3bb31",
     "showTitle": false,
     "tableResultSettingsMap": {},
     "title": ""
    }
   },
   "outputs": [],
   "source": [
    "select * from silver.crm_prd_info where prd_end_dt < prd_start_dt"
   ]
  },
  {
   "cell_type": "markdown",
   "metadata": {
    "application/vnd.databricks.v1+cell": {
     "cellMetadata": {
      "byteLimit": 2048000,
      "rowLimit": 10000
     },
     "inputWidgets": {},
     "nuid": "1a663573-4ae5-4f4a-95f0-a708ae97a703",
     "showTitle": false,
     "tableResultSettingsMap": {},
     "title": ""
    }
   },
   "source": [
    "### > - crm_sales_details"
   ]
  },
  {
   "cell_type": "code",
   "execution_count": 0,
   "metadata": {
    "application/vnd.databricks.v1+cell": {
     "cellMetadata": {
      "byteLimit": 2048000,
      "rowLimit": 10000
     },
     "inputWidgets": {},
     "nuid": "40b6a8fd-eadf-42c8-89fb-e413985bff72",
     "showTitle": false,
     "tableResultSettingsMap": {},
     "title": ""
    }
   },
   "outputs": [],
   "source": [
    "%sql\n",
    "select sls_ord_num,\n",
    "sls_prd_key,\n",
    "sls_cust_id,\n",
    "sls_order_dt,\n",
    "sls_ship_dt,\n",
    "sls_due_dt,\n",
    "sls_sales,\n",
    "sls_quantity,\n",
    "sls_price \n",
    "from bronze.crm_sales_details\n",
    "where sls_ord_num !=  TRIM(sls_ord_num)"
   ]
  },
  {
   "cell_type": "code",
   "execution_count": 0,
   "metadata": {
    "application/vnd.databricks.v1+cell": {
     "cellMetadata": {
      "byteLimit": 2048000,
      "rowLimit": 10000
     },
     "inputWidgets": {},
     "nuid": "af281b26-e7b9-4266-8b60-3722370081b6",
     "showTitle": false,
     "tableResultSettingsMap": {
      "0": {
       "dataGridStateBlob": "{\"version\":1,\"tableState\":{\"columnPinning\":{\"left\":[\"#row_number#\"],\"right\":[]},\"columnSizing\":{},\"columnVisibility\":{}},\"settings\":{\"columns\":{}},\"syncTimestamp\":1753530792409}",
       "filterBlob": null,
       "queryPlanFiltersBlob": null,
       "tableResultIndex": 0
      }
     },
     "title": ""
    }
   },
   "outputs": [],
   "source": [
    "%sql\n",
    "select sls_ord_num,\n",
    "sls_prd_key,\n",
    "sls_cust_id,\n",
    "sls_order_dt,\n",
    "sls_ship_dt,\n",
    "sls_due_dt,\n",
    "sls_sales,\n",
    "sls_quantity,\n",
    "sls_price \n",
    "from bronze.crm_sales_details\n",
    "where sls_prd_key  NOT IN (SELECT prd_key FROM SILVER.crm_prd_info)"
   ]
  },
  {
   "cell_type": "code",
   "execution_count": 0,
   "metadata": {
    "application/vnd.databricks.v1+cell": {
     "cellMetadata": {
      "byteLimit": 2048000,
      "rowLimit": 10000
     },
     "inputWidgets": {},
     "nuid": "8ac2fda5-ecef-48db-a87f-63e382cf2759",
     "showTitle": false,
     "tableResultSettingsMap": {},
     "title": ""
    }
   },
   "outputs": [],
   "source": [
    "%sql\n",
    "select sls_ord_num,\n",
    "sls_prd_key,\n",
    "sls_cust_id,\n",
    "sls_order_dt,\n",
    "sls_ship_dt,\n",
    "sls_due_dt,\n",
    "sls_sales,\n",
    "sls_quantity,\n",
    "sls_price \n",
    "from bronze.crm_sales_details\n",
    "where sls_cust_id  NOT IN (SELECT cst_id FROM SILVER.crm_cust_info)"
   ]
  },
  {
   "cell_type": "code",
   "execution_count": 0,
   "metadata": {
    "application/vnd.databricks.v1+cell": {
     "cellMetadata": {
      "byteLimit": 2048000,
      "rowLimit": 10000
     },
     "inputWidgets": {},
     "nuid": "a5f35a74-37c9-46e7-ad0f-68aa5bf8059d",
     "showTitle": false,
     "tableResultSettingsMap": {
      "0": {
       "dataGridStateBlob": "{\"version\":1,\"tableState\":{\"columnPinning\":{\"left\":[\"#row_number#\"],\"right\":[]},\"columnSizing\":{},\"columnVisibility\":{}},\"settings\":{\"columns\":{}},\"syncTimestamp\":1753530681990}",
       "filterBlob": null,
       "queryPlanFiltersBlob": null,
       "tableResultIndex": 0
      }
     },
     "title": ""
    }
   },
   "outputs": [],
   "source": [
    "--check for invalid dates\n",
    "select\n",
    "  sls_ord_num,\n",
    "  sls_prd_key,\n",
    "  sls_cust_id,\n",
    "  CASE\n",
    "    WHEN\n",
    "      (\n",
    "        sls_order_dt = 0\n",
    "        OR LEN(sls_order_dt) != 8\n",
    "      )\n",
    "    THEN\n",
    "      NULL\n",
    "    ELSE to_date(CAST(sls_order_dt AS STRING), 'yyyyMMdd')\n",
    "  END as sls_order_dt,\n",
    "  CASE\n",
    "    WHEN\n",
    "      (\n",
    "        sls_ship_dt = 0\n",
    "        OR LEN(sls_ship_dt) != 8\n",
    "      )\n",
    "    THEN\n",
    "      NULL\n",
    "    ELSE to_date(CAST(sls_ship_dt AS STRING), 'yyyyMMdd')\n",
    "  END sls_ship_dt,\n",
    "    CASE\n",
    "    WHEN\n",
    "      (\n",
    "        sls_due_dt = 0\n",
    "        OR LEN(sls_due_dt) != 8\n",
    "      )\n",
    "    THEN\n",
    "      NULL\n",
    "    ELSE to_date(CAST(sls_due_dt AS STRING), 'yyyyMMdd')\n",
    "  END sls_due_dt,\n",
    "  sls_sales,\n",
    "  sls_quantity,\n",
    "  sls_price\n",
    "from\n",
    "  bronze.crm_sales_details"
   ]
  },
  {
   "cell_type": "code",
   "execution_count": 0,
   "metadata": {
    "application/vnd.databricks.v1+cell": {
     "cellMetadata": {
      "byteLimit": 2048000,
      "rowLimit": 10000
     },
     "inputWidgets": {},
     "nuid": "d3b581ff-e403-4dbc-9e5a-0f79c032bb56",
     "showTitle": false,
     "tableResultSettingsMap": {
      "0": {
       "dataGridStateBlob": "{\"version\":1,\"tableState\":{\"columnPinning\":{\"left\":[\"#row_number#\"],\"right\":[]},\"columnSizing\":{},\"columnVisibility\":{}},\"settings\":{\"columns\":{}},\"syncTimestamp\":1753530396078}",
       "filterBlob": null,
       "queryPlanFiltersBlob": null,
       "tableResultIndex": 0
      }
     },
     "title": ""
    }
   },
   "outputs": [],
   "source": [
    "--check for business rules sales  =  quantity * price ,negative zeros ,null are not aloud\n",
    "select\n",
    "  sls_ord_num,\n",
    "  sls_prd_key,\n",
    "  sls_cust_id,\n",
    "  CASE\n",
    "    WHEN\n",
    "      (\n",
    "        sls_order_dt = 0\n",
    "        OR LEN(sls_order_dt) != 8\n",
    "      )\n",
    "    THEN\n",
    "      NULL\n",
    "    ELSE to_date(CAST(sls_order_dt AS STRING), 'yyyyMMdd')\n",
    "  END as sls_order_dt,\n",
    "  CASE\n",
    "    WHEN\n",
    "      (\n",
    "        sls_ship_dt = 0\n",
    "        OR LEN(sls_ship_dt) != 8\n",
    "      )\n",
    "    THEN\n",
    "      NULL\n",
    "    ELSE to_date(CAST(sls_ship_dt AS STRING), 'yyyyMMdd')\n",
    "  END sls_ship_dt,\n",
    "    CASE\n",
    "    WHEN\n",
    "      (\n",
    "        sls_due_dt = 0\n",
    "        OR LEN(sls_due_dt) != 8\n",
    "      )\n",
    "    THEN\n",
    "      NULL\n",
    "    ELSE to_date(CAST(sls_due_dt AS STRING), 'yyyyMMdd')\n",
    "  END sls_due_dt,\n",
    "  sls_sales,\n",
    "  sls_quantity,\n",
    "  sls_price\n",
    "from\n",
    "  bronze.crm_sales_details\n",
    "  where sls_sales != sls_quantity * sls_price or sls_sales is null or sls_quantity is null or sls_price is null\n",
    "  or sls_sales <= 0 or sls_quantity <= 0 or sls_price <= 0"
   ]
  },
  {
   "cell_type": "markdown",
   "metadata": {
    "application/vnd.databricks.v1+cell": {
     "cellMetadata": {
      "byteLimit": 2048000,
      "rowLimit": 10000
     },
     "inputWidgets": {},
     "nuid": "fed4cd71-efaf-485e-81a3-dc6f9e0cd785",
     "showTitle": false,
     "tableResultSettingsMap": {},
     "title": ""
    }
   },
   "source": [
    "###\n",
    "Based on decision \n",
    ">- If sales is negative ,zero,or null ,derive it using quantity and price\n",
    "> - if price is zero or null ,calculate it using sales and quantity\n",
    "> - if price is negative ,convert it into positive values"
   ]
  },
  {
   "cell_type": "code",
   "execution_count": 0,
   "metadata": {
    "application/vnd.databricks.v1+cell": {
     "cellMetadata": {
      "byteLimit": 2048000,
      "rowLimit": 10000
     },
     "inputWidgets": {},
     "nuid": "75b433be-ef2c-422b-bbd9-1388f1e9bea3",
     "showTitle": false,
     "tableResultSettingsMap": {},
     "title": ""
    }
   },
   "outputs": [],
   "source": [
    "--check for business rules sales  =  quantity * price ,negative zeros ,null are not aloud\n",
    "select\n",
    "  sls_ord_num,\n",
    "  sls_prd_key,\n",
    "  sls_cust_id,\n",
    "  CASE\n",
    "    WHEN\n",
    "      (\n",
    "        sls_order_dt = 0\n",
    "        OR LEN(sls_order_dt) != 8\n",
    "      )\n",
    "    THEN\n",
    "      NULL\n",
    "    ELSE to_date(CAST(sls_order_dt AS STRING), 'yyyyMMdd')\n",
    "  END as sls_order_dt,\n",
    "  CASE\n",
    "    WHEN\n",
    "      (\n",
    "        sls_ship_dt = 0\n",
    "        OR LEN(sls_ship_dt) != 8\n",
    "      )\n",
    "    THEN\n",
    "      NULL\n",
    "    ELSE to_date(CAST(sls_ship_dt AS STRING), 'yyyyMMdd')\n",
    "  END sls_ship_dt,\n",
    "    CASE\n",
    "    WHEN\n",
    "      (\n",
    "        sls_due_dt = 0\n",
    "        OR LEN(sls_due_dt) != 8\n",
    "      )\n",
    "    THEN\n",
    "      NULL\n",
    "    ELSE to_date(CAST(sls_due_dt AS STRING), 'yyyyMMdd')\n",
    "  END sls_due_dt,\n",
    "  CASE WHEN  sls_sales <= 0 OR sls_sales is null or sls_sales != sls_quantity * abs(sls_price) then  sls_quantity * abs(sls_price)  else sls_sales end as sls_sales,\n",
    "  sls_quantity,\n",
    "  CASE WHEN  sls_price <= 0 OR sls_price is null or sls_price != abs(sls_sales) / sls_quantity   then abs(sls_sales) / sls_quantity else sls_price end as sls_price\n",
    "  \n",
    "from\n",
    "  bronze.crm_sales_details\n",
    "  -- where sls_sales != sls_quantity * sls_price or sls_sales is null or sls_quantity is null or sls_price is null\n",
    "  -- or sls_sales <= 0 or sls_quantity <= 0 or sls_price <= 0"
   ]
  },
  {
   "cell_type": "code",
   "execution_count": 0,
   "metadata": {
    "application/vnd.databricks.v1+cell": {
     "cellMetadata": {
      "byteLimit": 2048000,
      "rowLimit": 10000
     },
     "inputWidgets": {},
     "nuid": "2836030e-7b82-4e83-acf7-5697fdb1c2ea",
     "showTitle": false,
     "tableResultSettingsMap": {},
     "title": ""
    }
   },
   "outputs": [],
   "source": [
    "CREATE OR REPLACE TABLE workspace.silver.crm_sales_details (\n",
    "  sls_ord_num VARCHAR(50),\n",
    "  sls_prd_key VARCHAR(50),\n",
    "  sls_cust_id INT,\n",
    "  sls_order_dt DATE,\n",
    "  sls_ship_dt DATE,\n",
    "  sls_due_dt DATE,\n",
    "  sls_sales INT,\n",
    "  sls_quantity INT,\n",
    "  sls_price INT,\n",
    "  dwh_creat_date TIMESTAMP DEFAULT current_timestamp())\n",
    "USING delta\n",
    "TBLPROPERTIES (\n",
    "  'delta.columnMapping.mode' = 'name',\n",
    "  'delta.enableDeletionVectors' = 'true',\n",
    "  'delta.feature.allowColumnDefaults' = 'supported',\n",
    "  'delta.feature.appendOnly' = 'supported',\n",
    "  'delta.feature.changeDataFeed' = 'supported',\n",
    "  'delta.feature.checkConstraints' = 'supported',\n",
    "  'delta.feature.columnMapping' = 'supported',\n",
    "  'delta.feature.deletionVectors' = 'supported',\n",
    "  'delta.feature.generatedColumns' = 'supported',\n",
    "  'delta.feature.invariants' = 'supported',\n",
    "  'delta.minReaderVersion' = '3',\n",
    "  'delta.minWriterVersion' = '7')\n"
   ]
  },
  {
   "cell_type": "code",
   "execution_count": 0,
   "metadata": {
    "application/vnd.databricks.v1+cell": {
     "cellMetadata": {
      "byteLimit": 2048000,
      "rowLimit": 10000
     },
     "inputWidgets": {},
     "nuid": "dbb75c6f-1023-4714-86da-7839bd5922d4",
     "showTitle": false,
     "tableResultSettingsMap": {},
     "title": ""
    }
   },
   "outputs": [],
   "source": [
    "INSERT OVERWRITE workspace.silver.crm_sales_details\n",
    "(sls_ord_num,\n",
    "sls_prd_key,\n",
    "sls_cust_id,\n",
    "sls_order_dt,\n",
    "sls_ship_dt,\n",
    "sls_due_dt,\n",
    "sls_sales,\n",
    "sls_quantity,\n",
    "sls_price)\n",
    "--check for business rules sales  =  quantity * price ,negative zeros ,null are not aloud\n",
    "select\n",
    "  sls_ord_num,\n",
    "  sls_prd_key,\n",
    "  sls_cust_id,\n",
    "  CASE\n",
    "    WHEN\n",
    "      (\n",
    "        sls_order_dt = 0\n",
    "        OR LEN(sls_order_dt) != 8\n",
    "      )\n",
    "    THEN\n",
    "      NULL\n",
    "    ELSE to_date(CAST(sls_order_dt AS STRING), 'yyyyMMdd')\n",
    "  END as sls_order_dt,\n",
    "  CASE\n",
    "    WHEN\n",
    "      (\n",
    "        sls_ship_dt = 0\n",
    "        OR LEN(sls_ship_dt) != 8\n",
    "      )\n",
    "    THEN\n",
    "      NULL\n",
    "    ELSE to_date(CAST(sls_ship_dt AS STRING), 'yyyyMMdd')\n",
    "  END sls_ship_dt,\n",
    "    CASE\n",
    "    WHEN\n",
    "      (\n",
    "        sls_due_dt = 0\n",
    "        OR LEN(sls_due_dt) != 8\n",
    "      )\n",
    "    THEN\n",
    "      NULL\n",
    "    ELSE to_date(CAST(sls_due_dt AS STRING), 'yyyyMMdd')\n",
    "  END sls_due_dt,\n",
    "  CASE WHEN  sls_sales <= 0 OR sls_sales is null or sls_sales != sls_quantity * abs(sls_price) then  sls_quantity * abs(sls_price)  else sls_sales end as sls_sales,\n",
    "  sls_quantity,\n",
    "  CASE WHEN  sls_price <= 0 OR sls_price is null   then abs(sls_sales) / sls_quantity else sls_price end as sls_price\n",
    "  \n",
    "from\n",
    "  bronze.crm_sales_details\n"
   ]
  },
  {
   "cell_type": "code",
   "execution_count": 0,
   "metadata": {
    "application/vnd.databricks.v1+cell": {
     "cellMetadata": {
      "byteLimit": 2048000,
      "rowLimit": 10000
     },
     "inputWidgets": {},
     "nuid": "df292992-d503-40a6-989a-372ec48190d2",
     "showTitle": false,
     "tableResultSettingsMap": {},
     "title": ""
    }
   },
   "outputs": [],
   "source": [
    "%sql\n",
    "select * from workspace.silver.crm_sales_details\n",
    "  where sls_sales != sls_quantity * sls_price or sls_sales is null or sls_quantity is null or sls_price is null\n",
    "  or sls_sales <= 0 or sls_quantity <= 0 or sls_price <= 0"
   ]
  },
  {
   "cell_type": "markdown",
   "metadata": {
    "application/vnd.databricks.v1+cell": {
     "cellMetadata": {
      "byteLimit": 2048000,
      "rowLimit": 10000
     },
     "inputWidgets": {},
     "nuid": "adfe62ab-9068-4674-ae78-3efe0e38b61c",
     "showTitle": false,
     "tableResultSettingsMap": {},
     "title": ""
    }
   },
   "source": [
    "Building ERP tables"
   ]
  },
  {
   "cell_type": "markdown",
   "metadata": {
    "application/vnd.databricks.v1+cell": {
     "cellMetadata": {
      "byteLimit": 2048000,
      "rowLimit": 10000
     },
     "inputWidgets": {},
     "nuid": "b9f81d1b-9db5-487e-9564-8d9c45f7cfd2",
     "showTitle": false,
     "tableResultSettingsMap": {},
     "title": ""
    }
   },
   "source": [
    "### erp_cust_az12"
   ]
  },
  {
   "cell_type": "code",
   "execution_count": 0,
   "metadata": {
    "application/vnd.databricks.v1+cell": {
     "cellMetadata": {
      "byteLimit": 2048000,
      "rowLimit": 10000
     },
     "inputWidgets": {},
     "nuid": "2a774592-ecfa-4be0-aff1-c2cf6b8b8f03",
     "showTitle": false,
     "tableResultSettingsMap": {
      "0": {
       "dataGridStateBlob": "{\"version\":1,\"tableState\":{\"columnPinning\":{\"left\":[\"#row_number#\"],\"right\":[]},\"columnSizing\":{},\"columnVisibility\":{}},\"settings\":{\"columns\":{}},\"syncTimestamp\":1753533899002}",
       "filterBlob": null,
       "queryPlanFiltersBlob": null,
       "tableResultIndex": 0
      }
     },
     "title": ""
    }
   },
   "outputs": [],
   "source": [
    "%sql\n",
    "select cid,bdate,gen from bronze.erp_cust_az12"
   ]
  },
  {
   "cell_type": "code",
   "execution_count": 0,
   "metadata": {
    "application/vnd.databricks.v1+cell": {
     "cellMetadata": {
      "byteLimit": 2048000,
      "rowLimit": 10000
     },
     "inputWidgets": {},
     "nuid": "254f4afd-8b98-4cf8-bcbf-0ce1ae834f86",
     "showTitle": false,
     "tableResultSettingsMap": {},
     "title": ""
    }
   },
   "outputs": [],
   "source": [
    "%sql\n",
    "select\n",
    "  TRIM(replace(cid, 'NAS', '')) as cid_suffix,\n",
    "  bdate,\n",
    "  gen\n",
    "from\n",
    "  bronze.erp_cust_az12 \n"
   ]
  },
  {
   "cell_type": "code",
   "execution_count": 0,
   "metadata": {
    "application/vnd.databricks.v1+cell": {
     "cellMetadata": {
      "byteLimit": 2048000,
      "rowLimit": 10000
     },
     "inputWidgets": {},
     "nuid": "c03fc2f4-4a02-4a55-b2c4-0e4fc001c81a",
     "showTitle": false,
     "tableResultSettingsMap": {
      "0": {
       "dataGridStateBlob": "{\"version\":1,\"tableState\":{\"columnPinning\":{\"left\":[\"#row_number#\"],\"right\":[]},\"columnSizing\":{},\"columnVisibility\":{}},\"settings\":{\"columns\":{}},\"syncTimestamp\":1753534024765}",
       "filterBlob": null,
       "queryPlanFiltersBlob": null,
       "tableResultIndex": 0
      }
     },
     "title": ""
    }
   },
   "outputs": [],
   "source": [
    "%sql\n",
    "---DATE OUT OF RANGE\n",
    "select\n",
    "  TRIM(replace(cid, 'NAS', '')) as cid_suffix,\n",
    "  CASE WHEN  bdate >  GETDATE() THEN NULL ELSE  bdate END AS bdate,\n",
    "  gen\n",
    "from\n",
    "  bronze.erp_cust_az12 \n"
   ]
  },
  {
   "cell_type": "code",
   "execution_count": 0,
   "metadata": {
    "application/vnd.databricks.v1+cell": {
     "cellMetadata": {
      "byteLimit": 2048000,
      "rowLimit": 10000
     },
     "inputWidgets": {},
     "nuid": "ee1fb93e-7c85-42ac-967d-202189fdc967",
     "showTitle": false,
     "tableResultSettingsMap": {},
     "title": ""
    }
   },
   "outputs": [],
   "source": [
    "\n",
    "\n",
    "%sql\n",
    "---DATA STANDARDIZATION & CONSISTENCY\n",
    "insert overwrite   silver.erp_cust_az12(cid,bdate,gen) \n",
    "select\n",
    "  TRIM(replace(cid, 'NAS', '')) as cid, ---Remove NAS prefix\n",
    "  CASE WHEN  bdate >  GETDATE() THEN NULL ELSE  bdate END AS bdate, --set future date to NULL\n",
    " case when trim(upper(gen)) = 'M' then 'Male' when trim(upper(gen)) = 'F' then 'Female' else 'n/a' end as gen --Set normalize gender values and handle unknown cases\n",
    "from\n",
    "  bronze.erp_cust_az12 \n",
    "\n"
   ]
  },
  {
   "cell_type": "code",
   "execution_count": 0,
   "metadata": {
    "application/vnd.databricks.v1+cell": {
     "cellMetadata": {
      "byteLimit": 2048000,
      "rowLimit": 10000
     },
     "inputWidgets": {},
     "nuid": "36e73366-a79f-4845-a75e-d03d71e09f8c",
     "showTitle": false,
     "tableResultSettingsMap": {
      "0": {
       "dataGridStateBlob": "{\"version\":1,\"tableState\":{\"columnPinning\":{\"left\":[\"#row_number#\"],\"right\":[]},\"columnSizing\":{},\"columnVisibility\":{}},\"settings\":{\"columns\":{}},\"syncTimestamp\":1753535043352}",
       "filterBlob": null,
       "queryPlanFiltersBlob": null,
       "tableResultIndex": 0
      }
     },
     "title": ""
    }
   },
   "outputs": [],
   "source": [
    "select * from silver.erp_cust_az12"
   ]
  },
  {
   "cell_type": "markdown",
   "metadata": {
    "application/vnd.databricks.v1+cell": {
     "cellMetadata": {
      "byteLimit": 2048000,
      "rowLimit": 10000
     },
     "inputWidgets": {},
     "nuid": "663c96c2-56e0-4c72-84b2-c97c7cadffbd",
     "showTitle": false,
     "tableResultSettingsMap": {},
     "title": ""
    }
   },
   "source": [
    "### erp_loc_a101"
   ]
  },
  {
   "cell_type": "code",
   "execution_count": 0,
   "metadata": {
    "application/vnd.databricks.v1+cell": {
     "cellMetadata": {
      "byteLimit": 2048000,
      "rowLimit": 10000
     },
     "inputWidgets": {},
     "nuid": "6150ef11-0aa2-4395-be46-467571c13219",
     "showTitle": false,
     "tableResultSettingsMap": {
      "0": {
       "dataGridStateBlob": "{\"version\":1,\"tableState\":{\"columnPinning\":{\"left\":[\"#row_number#\"],\"right\":[]},\"columnSizing\":{},\"columnVisibility\":{}},\"settings\":{\"columns\":{}},\"syncTimestamp\":1753535399615}",
       "filterBlob": null,
       "queryPlanFiltersBlob": null,
       "tableResultIndex": 0
      }
     },
     "title": ""
    }
   },
   "outputs": [],
   "source": [
    "select cid,cntry from bronze.erp_loc_a101 where cid not in (select cid from silver.erp_cust_az12)"
   ]
  },
  {
   "cell_type": "code",
   "execution_count": 0,
   "metadata": {
    "application/vnd.databricks.v1+cell": {
     "cellMetadata": {
      "byteLimit": 2048000,
      "rowLimit": 10000
     },
     "inputWidgets": {},
     "nuid": "3447a1ae-7347-4ae4-be6e-4d240277c832",
     "showTitle": false,
     "tableResultSettingsMap": {},
     "title": ""
    }
   },
   "outputs": [],
   "source": [
    "insert overwrite  silver.erp_loc_a101(cid,cntry)\n",
    "select\n",
    "  replace(cid, '-', '') as cid,---Remove -\n",
    "  case\n",
    "    when trim(cntry) = 'DE' then 'Germany'\n",
    "    when trim(cntry) in ('US', 'USA') then 'United States'\n",
    "    when trim(cntry) = ''\n",
    "    or trim(cntry) is null then 'n/a'\n",
    "    else trim(cntry)\n",
    "  end as cntry ---standardization & consistency ---Normalize and handling missing or blank country codes\n",
    "from\n",
    "  bronze.erp_loc_a101"
   ]
  },
  {
   "cell_type": "code",
   "execution_count": 0,
   "metadata": {
    "application/vnd.databricks.v1+cell": {
     "cellMetadata": {
      "byteLimit": 2048000,
      "rowLimit": 10000
     },
     "inputWidgets": {},
     "nuid": "0972a995-6164-4808-a627-473d0e9e6ef3",
     "showTitle": false,
     "tableResultSettingsMap": {
      "0": {
       "dataGridStateBlob": "{\"version\":1,\"tableState\":{\"columnPinning\":{\"left\":[\"#row_number#\"],\"right\":[]},\"columnSizing\":{\"cntry\":197},\"columnVisibility\":{}},\"settings\":{\"columns\":{}},\"syncTimestamp\":1753535674662}",
       "filterBlob": null,
       "queryPlanFiltersBlob": null,
       "tableResultIndex": 0
      }
     },
     "title": ""
    }
   },
   "outputs": [],
   "source": [
    "select\n",
    "distinct cntry\n",
    "\n",
    "from\n",
    "silver.erp_loc_a101"
   ]
  },
  {
   "cell_type": "markdown",
   "metadata": {
    "application/vnd.databricks.v1+cell": {
     "cellMetadata": {
      "byteLimit": 2048000,
      "rowLimit": 10000
     },
     "inputWidgets": {},
     "nuid": "bacb5b4e-cecc-49a9-a3be-b368596b312a",
     "showTitle": false,
     "tableResultSettingsMap": {},
     "title": ""
    }
   },
   "source": [
    "###\n",
    "erp_px_cat_g1v2"
   ]
  },
  {
   "cell_type": "code",
   "execution_count": 0,
   "metadata": {
    "application/vnd.databricks.v1+cell": {
     "cellMetadata": {
      "byteLimit": 2048000,
      "rowLimit": 10000
     },
     "inputWidgets": {},
     "nuid": "54693a4d-dd56-40a0-a87d-07b9ae47d8fd",
     "showTitle": false,
     "tableResultSettingsMap": {},
     "title": ""
    }
   },
   "outputs": [],
   "source": [
    "%sql\n",
    "insert overwrite    silver.erp_px_cat_g1v2 (id,\n",
    "  cat,\n",
    "  subcat,\n",
    "  MAINTENANCE)\n",
    "select\n",
    "  id,\n",
    "  cat,\n",
    "  subcat,\n",
    "  MAINTENANCE\n",
    "from\n",
    "  bronze.erp_px_cat_g1v2"
   ]
  },
  {
   "cell_type": "code",
   "execution_count": 0,
   "metadata": {
    "application/vnd.databricks.v1+cell": {
     "cellMetadata": {
      "byteLimit": 2048000,
      "rowLimit": 10000
     },
     "inputWidgets": {},
     "nuid": "99875557-b92f-44eb-b149-552aa430e9b0",
     "showTitle": false,
     "tableResultSettingsMap": {
      "0": {
       "dataGridStateBlob": "{\"version\":1,\"tableState\":{\"columnPinning\":{\"left\":[\"#row_number#\"],\"right\":[]},\"columnSizing\":{},\"columnVisibility\":{}},\"settings\":{\"columns\":{}},\"syncTimestamp\":1753536493070}",
       "filterBlob": null,
       "queryPlanFiltersBlob": null,
       "tableResultIndex": 0
      }
     },
     "title": ""
    }
   },
   "outputs": [],
   "source": [
    "%sql\n",
    "select\n",
    " *\n",
    "from\n",
    "    silver.erp_px_cat_g1v2 "
   ]
  }
 ],
 "metadata": {
  "application/vnd.databricks.v1+notebook": {
   "computePreferences": null,
   "dashboards": [],
   "environmentMetadata": {
    "base_environment": "",
    "environment_version": "2"
   },
   "inputWidgetPreferences": null,
   "language": "sql",
   "notebookMetadata": {
    "pythonIndentUnit": 4
   },
   "notebookName": "Explore_bronze_data and insert into silve",
   "widgets": {}
  },
  "language_info": {
   "name": "sql"
  }
 },
 "nbformat": 4,
 "nbformat_minor": 0
}
