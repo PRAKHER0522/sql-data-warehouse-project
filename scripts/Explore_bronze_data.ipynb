{
 "cells": [
  {
   "cell_type": "code",
   "execution_count": 0,
   "metadata": {
    "application/vnd.databricks.v1+cell": {
     "cellMetadata": {
      "byteLimit": 2048000,
      "rowLimit": 10000
     },
     "inputWidgets": {},
     "nuid": "d6399e7f-1106-4d03-91fb-41df8e90b859",
     "showTitle": false,
     "tableResultSettingsMap": {
      "0": {
       "dataGridStateBlob": "{\"version\":1,\"tableState\":{\"columnPinning\":{\"left\":[\"#row_number#\"],\"right\":[]},\"columnSizing\":{},\"columnVisibility\":{}},\"settings\":{\"columns\":{}},\"syncTimestamp\":1752417115125}",
       "filterBlob": null,
       "queryPlanFiltersBlob": null,
       "tableResultIndex": 0
      }
     },
     "title": ""
    }
   },
   "outputs": [],
   "source": [
    "%sql\n",
    "select * from bronze.crm_cust_info "
   ]
  },
  {
   "cell_type": "code",
   "execution_count": 0,
   "metadata": {
    "application/vnd.databricks.v1+cell": {
     "cellMetadata": {},
     "inputWidgets": {},
     "nuid": "94a57ec5-bc17-466a-b432-d27c2a7fda4b",
     "showTitle": false,
     "tableResultSettingsMap": {},
     "title": ""
    }
   },
   "outputs": [],
   "source": [
    "---CHECK FOR NULLS OR DUPLICATE IN PRIMARY KEY\n",
    "---EXPECTED NULL"
   ]
  },
  {
   "cell_type": "code",
   "execution_count": 0,
   "metadata": {
    "application/vnd.databricks.v1+cell": {
     "cellMetadata": {
      "byteLimit": 2048000,
      "rowLimit": 10000
     },
     "inputWidgets": {},
     "nuid": "7820efe4-12a4-4e21-b055-1d22c1a0ade2",
     "showTitle": false,
     "tableResultSettingsMap": {},
     "title": ""
    }
   },
   "outputs": [],
   "source": [
    "%sql\n",
    "select cst_id,count(*) from bronze.crm_cust_info group by cst_id having count(*) > 1 or cst_id is null"
   ]
  },
  {
   "cell_type": "code",
   "execution_count": 0,
   "metadata": {
    "application/vnd.databricks.v1+cell": {
     "cellMetadata": {},
     "inputWidgets": {},
     "nuid": "f58daa4f-b223-4b0a-a586-190847d1efc5",
     "showTitle": false,
     "tableResultSettingsMap": {},
     "title": ""
    }
   },
   "outputs": [],
   "source": [
    "---query to data transformation and cleansing\n",
    "---remove duplicate from primary key\n",
    "---remove trim spaces\n",
    "---data standardization & consistency"
   ]
  },
  {
   "cell_type": "code",
   "execution_count": 0,
   "metadata": {
    "application/vnd.databricks.v1+cell": {
     "cellMetadata": {
      "byteLimit": 2048000,
      "rowLimit": 10000
     },
     "inputWidgets": {},
     "nuid": "b751b609-5b50-4c62-a38b-1bf9372a9d33",
     "showTitle": false,
     "tableResultSettingsMap": {
      "0": {
       "dataGridStateBlob": "{\"version\":1,\"tableState\":{\"columnPinning\":{\"left\":[\"#row_number#\"],\"right\":[]},\"columnSizing\":{},\"columnVisibility\":{}},\"settings\":{\"columns\":{}},\"syncTimestamp\":1752419934670}",
       "filterBlob": null,
       "queryPlanFiltersBlob": null,
       "tableResultIndex": 0
      }
     },
     "title": ""
    }
   },
   "outputs": [],
   "source": [
    "%sql\n",
    "select * from (\n",
    "select *,row_number() over(partition by cst_id order by cst_create_date desc) as flag_last from bronze.crm_cust_info \n",
    ")\n",
    "where flag_last = 1 "
   ]
  },
  {
   "cell_type": "code",
   "execution_count": 0,
   "metadata": {
    "application/vnd.databricks.v1+cell": {
     "cellMetadata": {
      "byteLimit": 2048000,
      "rowLimit": 10000
     },
     "inputWidgets": {},
     "nuid": "bbf17e3a-be5a-49f4-848b-10219793d89f",
     "showTitle": false,
     "tableResultSettingsMap": {},
     "title": ""
    }
   },
   "outputs": [],
   "source": [
    "%sql\n",
    "insert into silver.crm_cust_info (\n",
    "    cst_id, cst_key, cst_firstname, cst_lastname, cst_marital_status, cst_gndr, cst_create_date\n",
    "  )\n",
    "  select\n",
    "    cst_id,\n",
    "    cst_key,\n",
    "    trim(cst_firstname) as cst_firstname,\n",
    "    trim(cst_lastname) as cst_lastname,\n",
    "    CASE\n",
    "      WHEN UPPER(cst_marital_status) = 'S' then 'Single'\n",
    "      when UPPER(cst_marital_status) = 'M' then 'Married'\n",
    "      ELSE 'n/a'\n",
    "    END as cst_marital_status,---normalize marital status values to readable format\n",
    "    CASE\n",
    "      WHEN UPPER(cst_gndr) = 'F' then 'Female'\n",
    "      when UPPER(cst_gndr) = 'M' then 'Male'\n",
    "      ELSE 'n/a' ---handling missing data\n",
    "    END as cst_gndr, ---normalize gender values to readable format\n",
    "    cst_create_date\n",
    "  from\n",
    "    (\n",
    "      select\n",
    "        *,\n",
    "        row_number() over (partition by cst_id order by cst_create_date desc) as flag_last\n",
    "      from\n",
    "        bronze.crm_cust_info\n",
    "    )\n",
    "  where\n",
    "    flag_last = 1\n",
    "    and cst_id is not null --select the most recent record per customer(removge duplicate) and remove null"
   ]
  },
  {
   "cell_type": "code",
   "execution_count": 0,
   "metadata": {
    "application/vnd.databricks.v1+cell": {
     "cellMetadata": {
      "byteLimit": 2048000,
      "rowLimit": 10000
     },
     "inputWidgets": {},
     "nuid": "27109681-eb5b-413d-8b4c-5fcde75b1b36",
     "showTitle": false,
     "tableResultSettingsMap": {},
     "title": ""
    }
   },
   "outputs": [],
   "source": [
    "%sql\n",
    "select * from silver.crm_cust_info"
   ]
  },
  {
   "cell_type": "code",
   "execution_count": 0,
   "metadata": {
    "application/vnd.databricks.v1+cell": {
     "cellMetadata": {
      "byteLimit": 2048000,
      "rowLimit": 10000
     },
     "inputWidgets": {},
     "nuid": "d59818f4-bee3-4df9-b661-052446e1a0c8",
     "showTitle": false,
     "tableResultSettingsMap": {},
     "title": ""
    }
   },
   "outputs": [],
   "source": [
    "%sql\n",
    "select * from bronze.crm_prd_info"
   ]
  },
  {
   "cell_type": "code",
   "execution_count": 0,
   "metadata": {
    "application/vnd.databricks.v1+cell": {
     "cellMetadata": {
      "byteLimit": 2048000,
      "rowLimit": 10000
     },
     "inputWidgets": {},
     "nuid": "99fbc7c4-9793-4891-9058-87016ea9d7d4",
     "showTitle": false,
     "tableResultSettingsMap": {},
     "title": ""
    }
   },
   "outputs": [],
   "source": [
    "%sql\n",
    "--prd_id is primary key\n",
    "--check for null and duplicates in primary key\n",
    "select prd_id,count(*) from bronze.crm_prd_info group by prd_id having count(*)> 1 or prd_id is null"
   ]
  },
  {
   "cell_type": "code",
   "execution_count": 0,
   "metadata": {
    "application/vnd.databricks.v1+cell": {
     "cellMetadata": {
      "byteLimit": 2048000,
      "rowLimit": 10000
     },
     "inputWidgets": {},
     "nuid": "3c1847a7-b6f5-4410-af9a-7635f81dd649",
     "showTitle": false,
     "tableResultSettingsMap": {
      "0": {
       "dataGridStateBlob": "{\"version\":1,\"tableState\":{\"columnPinning\":{\"left\":[\"#row_number#\"],\"right\":[]},\"columnSizing\":{},\"columnVisibility\":{}},\"settings\":{\"columns\":{}},\"syncTimestamp\":1752505330901}",
       "filterBlob": null,
       "queryPlanFiltersBlob": null,
       "tableResultIndex": 0
      }
     },
     "title": ""
    }
   },
   "outputs": [],
   "source": [
    "--check for unwanted space\n",
    "%sql\n",
    "select prd_id,\n",
    "prd_key,\n",
    "replace(substring(prd_key,1,5),'-','_') as cat_id,\n",
    "replace(substring(prd_key,7,length(prd_key)),'-','_') as prd_key,\n",
    "prd_nm,\n",
    "prd_cost,\n",
    "prd_line,\n",
    "prd_start_dt,\n",
    "prd_end_dt   from bronze.crm_prd_info\n",
    "where prd_nm != trim(prd_nm)"
   ]
  },
  {
   "cell_type": "code",
   "execution_count": 0,
   "metadata": {
    "application/vnd.databricks.v1+cell": {
     "cellMetadata": {
      "byteLimit": 2048000,
      "rowLimit": 10000
     },
     "inputWidgets": {},
     "nuid": "1161d96a-7840-4ce0-88fb-6e728f3e34d0",
     "showTitle": false,
     "tableResultSettingsMap": {},
     "title": ""
    }
   },
   "outputs": [],
   "source": [
    "%sql\n",
    "---check for nulls or negative number\n",
    "---Expected :No result\n",
    "select prd_id,\n",
    "prd_key,\n",
    "replace(substring(prd_key,1,5),'-','_') as cat_id,\n",
    "replace(substring(prd_key,7,length(prd_key)),'-','_') as prd_key,\n",
    "prd_nm,\n",
    "prd_cost,\n",
    "prd_line,\n",
    "prd_start_dt,\n",
    "prd_end_dt   from bronze.crm_prd_info\n",
    "where prd_cost <= 0 or prd_cost is null\n",
    "---Since we have null value as per business we need to make it 0\n",
    "    "
   ]
  },
  {
   "cell_type": "code",
   "execution_count": 0,
   "metadata": {
    "application/vnd.databricks.v1+cell": {
     "cellMetadata": {
      "byteLimit": 2048000,
      "rowLimit": 10000
     },
     "inputWidgets": {},
     "nuid": "053a4b73-c016-4269-a19e-c8b05823bcc5",
     "showTitle": false,
     "tableResultSettingsMap": {},
     "title": ""
    }
   },
   "outputs": [],
   "source": [
    "---Need to check for abbrevation change or not like we did for prd_lines\n",
    "--Data standardization & consistency\n",
    "select prd_id,\n",
    "prd_key,\n",
    "replace(substring(prd_key,1,5),'-','_') as cat_id,\n",
    "replace(substring(prd_key,7,length(prd_key)),'-','_') as prd_key,\n",
    "prd_nm,\n",
    "coalesce(prd_cost,0) as prd_cost,\n",
    "case upper(trim(prd_line)) \n",
    "when 'M' then 'Mountain'\n",
    "when 'R' then 'Road'\n",
    "when 'S' then 'other Sales'\n",
    "when 'T' then 'Touring'\n",
    "else 'n/a' end as prd_line,\n",
    "prd_start_dt,\n",
    "prd_end_dt   from bronze.crm_prd_info\n",
    "where prd_cost <= 0 or prd_cost is null\n"
   ]
  },
  {
   "cell_type": "code",
   "execution_count": 0,
   "metadata": {
    "application/vnd.databricks.v1+cell": {
     "cellMetadata": {
      "byteLimit": 2048000,
      "rowLimit": 10000
     },
     "inputWidgets": {},
     "nuid": "739b6f93-94af-4b97-ad94-da8f45dd853d",
     "showTitle": false,
     "tableResultSettingsMap": {
      "0": {
       "dataGridStateBlob": "{\"version\":1,\"tableState\":{\"columnPinning\":{\"left\":[\"#row_number#\"],\"right\":[]},\"columnSizing\":{\"prd_key\":159},\"columnVisibility\":{}},\"settings\":{\"columns\":{}},\"syncTimestamp\":1752507342408}",
       "filterBlob": null,
       "queryPlanFiltersBlob": null,
       "tableResultIndex": 0
      }
     },
     "title": ""
    }
   },
   "outputs": [],
   "source": [
    "-- check for invalid date orders\n",
    "---start date < end date\n",
    "---end date should be small to start date of next recird against same id\n",
    "select prd_id,\n",
    "prd_key,\n",
    "prd_nm,\n",
    "prd_start_dt,\n",
    "prd_end_dt ,\n",
    "lead(prd_start_dt) over (partition by prd_key order by prd_start_dt)-1 as prd_end_dt_test\n",
    "  from bronze.crm_prd_info\n",
    "where  prd_key in ('AC-HE-HL-U509-R' , 'AC-HE-HL-U509')\n"
   ]
  },
  {
   "cell_type": "code",
   "execution_count": 0,
   "metadata": {
    "application/vnd.databricks.v1+cell": {
     "cellMetadata": {
      "byteLimit": 2048000,
      "rowLimit": 10000
     },
     "inputWidgets": {},
     "nuid": "377a313f-96c1-4fae-be17-014d42873d48",
     "showTitle": false,
     "tableResultSettingsMap": {},
     "title": ""
    }
   },
   "outputs": [],
   "source": [
    "-- check for invalid date orders\n",
    "select prd_id,\n",
    "prd_key,\n",
    "replace(substring(prd_key,1,5),'-','_') as cat_id,\n",
    "replace(substring(prd_key,7,length(prd_key)),'-','_') as prd_key,\n",
    "prd_nm,\n",
    "coalesce(prd_cost,0) as prd_cost,\n",
    "case upper(trim(prd_line)) \n",
    "when 'M' then 'Mountain'\n",
    "when 'R' then 'Road'\n",
    "when 'S' then 'other Sales'\n",
    "when 'T' then 'Touring'\n",
    "else 'n/a' end as prd_line,\n",
    "prd_start_dt,\n",
    "lead(prd_start_dt) over (partition by prd_key order by prd_start_dt)-1 as prd_end_dt   \n",
    "from bronze.crm_prd_info\n",
    "\n"
   ]
  },
  {
   "cell_type": "code",
   "execution_count": 0,
   "metadata": {
    "application/vnd.databricks.v1+cell": {
     "cellMetadata": {
      "byteLimit": 2048000,
      "rowLimit": 10000
     },
     "inputWidgets": {},
     "nuid": "51f651f0-1739-4177-8862-df89d91131bf",
     "showTitle": false,
     "tableResultSettingsMap": {},
     "title": ""
    }
   },
   "outputs": [],
   "source": [
    "--Modify table defination\n",
    "CREATE OR REPLACE TABLE silver.crm_prd_info (\n",
    "  prd_id INT,\n",
    "  cat_id VARCHAR(50),\n",
    "  prd_key VARCHAR(50),\n",
    "  prd_nm VARCHAR(50),\n",
    "  prd_cost INT,\n",
    "  prd_line VARCHAR(50),\n",
    "  prd_start_dt TIMESTAMP,\n",
    "  prd_end_dt TIMESTAMP,\n",
    "  dwh_creat_date TIMESTAMP DEFAULT current_timestamp())\n",
    "USING delta\n",
    "TBLPROPERTIES (\n",
    "  'delta.columnMapping.mode' = 'name',\n",
    "  'delta.enableDeletionVectors' = 'true',\n",
    "  'delta.feature.allowColumnDefaults' = 'supported',\n",
    "  'delta.feature.appendOnly' = 'supported',\n",
    "  'delta.feature.changeDataFeed' = 'supported',\n",
    "  'delta.feature.checkConstraints' = 'supported',\n",
    "  'delta.feature.columnMapping' = 'supported',\n",
    "  'delta.feature.deletionVectors' = 'supported',\n",
    "  'delta.feature.generatedColumns' = 'supported',\n",
    "  'delta.feature.invariants' = 'supported',\n",
    "  'delta.minReaderVersion' = '3',\n",
    "  'delta.minWriterVersion' = '7')\n"
   ]
  },
  {
   "cell_type": "code",
   "execution_count": 0,
   "metadata": {
    "application/vnd.databricks.v1+cell": {
     "cellMetadata": {
      "byteLimit": 2048000,
      "rowLimit": 10000
     },
     "inputWidgets": {},
     "nuid": "e2a0e4de-b4e5-405a-a554-580790027ff6",
     "showTitle": false,
     "tableResultSettingsMap": {},
     "title": ""
    }
   },
   "outputs": [],
   "source": [
    "insert into silver.crm_prd_info(prd_id,cat_id,prd_key,prd_nm,prd_cost,prd_line,prd_start_dt,prd_end_dt) \n",
    "select prd_id,\n",
    "replace(substring(prd_key,1,5),'-','_') as cat_id,\n",
    "replace(substring(prd_key,7,length(prd_key)),'-','_') as prd_key,\n",
    "prd_nm,\n",
    "coalesce(prd_cost,0) as prd_cost,\n",
    "case upper(trim(prd_line)) \n",
    "when 'M' then 'Mountain'\n",
    "when 'R' then 'Road'\n",
    "when 'S' then 'other Sales'\n",
    "when 'T' then 'Touring'\n",
    "else 'n/a' end as prd_line,\n",
    "prd_start_dt,\n",
    "lead(prd_start_dt) over (partition by prd_key order by prd_start_dt)-1 as prd_end_dt   \n",
    "from bronze.crm_prd_info\n",
    "\n"
   ]
  },
  {
   "cell_type": "code",
   "execution_count": 0,
   "metadata": {
    "application/vnd.databricks.v1+cell": {
     "cellMetadata": {
      "byteLimit": 2048000,
      "rowLimit": 10000
     },
     "inputWidgets": {},
     "nuid": "e17fc51c-35c4-4f42-b52a-c9ff65947db0",
     "showTitle": false,
     "tableResultSettingsMap": {
      "0": {
       "dataGridStateBlob": "{\"version\":1,\"tableState\":{\"columnPinning\":{\"left\":[\"#row_number#\"],\"right\":[]},\"columnSizing\":{},\"columnVisibility\":{}},\"settings\":{\"columns\":{}},\"syncTimestamp\":1752510504274}",
       "filterBlob": null,
       "queryPlanFiltersBlob": null,
       "tableResultIndex": 0
      }
     },
     "title": ""
    }
   },
   "outputs": [],
   "source": [
    "SELECT * FROM SILVER.crm_prd_info"
   ]
  }
 ],
 "metadata": {
  "application/vnd.databricks.v1+notebook": {
   "computePreferences": null,
   "dashboards": [],
   "environmentMetadata": {
    "base_environment": "",
    "environment_version": "2"
   },
   "inputWidgetPreferences": null,
   "language": "sql",
   "notebookMetadata": {
    "pythonIndentUnit": 4
   },
   "notebookName": "Explore_bronze_data",
   "widgets": {}
  },
  "language_info": {
   "name": "sql"
  }
 },
 "nbformat": 4,
 "nbformat_minor": 0
}
