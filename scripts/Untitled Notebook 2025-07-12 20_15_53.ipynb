{
 "cells": [
  {
   "cell_type": "code",
   "execution_count": 0,
   "metadata": {
    "application/vnd.databricks.v1+cell": {
     "cellMetadata": {
      "byteLimit": 2048000,
      "rowLimit": 10000
     },
     "inputWidgets": {},
     "nuid": "12f1b1da-6a2d-4524-b57a-3572a7835dbd",
     "showTitle": false,
     "tableResultSettingsMap": {},
     "title": ""
    }
   },
   "outputs": [],
   "source": [
    "# Define storage details\n",
    "blob_container = \"prakher\"\n",
    "storage_account = \"devstoreaccount1\"  # Use real account if not using Azurite\n",
    "sas_token = \"sv=2025-07-12&st=2025-07-12T14%3A25%3A52Z&se=2025-07-13T14%3A25%3A52Z&sr=c&sp=racwdxltf&sig=T6imVAVqWItKCZbCyH6rMWmBHFEEfIREL2VaJhdoM8A%3D\"  # WITHOUT the leading '?'\n",
    "\n",
    "# File path\n",
    "wasbs_path = f\"wasbs://{blob_container}@{storage_account}.blob.core.windows.net/your-folder\"\n",
    "\n",
    "# Set configuration\n",
    "spark.conf.set(f\"fs.azure.sas.{blob_container}.{storage_account}.blob.core.windows.net\", sas_token)\n",
    "\n",
    "# Read file (example for CSV)\n",
    "df = spark.read.csv(f\"{wasbs_path}/your_file.csv\", header=True, inferSchema=True)\n",
    "df.show()\n"
   ]
  }
 ],
 "metadata": {
  "application/vnd.databricks.v1+notebook": {
   "computePreferences": null,
   "dashboards": [],
   "environmentMetadata": {
    "base_environment": "",
    "environment_version": "2"
   },
   "inputWidgetPreferences": null,
   "language": "python",
   "notebookMetadata": {
    "pythonIndentUnit": 4
   },
   "notebookName": "Untitled Notebook 2025-07-12 20_15_53",
   "widgets": {}
  },
  "language_info": {
   "name": "python"
  }
 },
 "nbformat": 4,
 "nbformat_minor": 0
}
