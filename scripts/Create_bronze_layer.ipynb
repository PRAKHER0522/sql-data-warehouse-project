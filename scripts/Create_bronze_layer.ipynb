{
 "cells": [
  {
   "cell_type": "markdown",
   "metadata": {
    "application/vnd.databricks.v1+cell": {
     "cellMetadata": {},
     "inputWidgets": {},
     "nuid": "53a90222-8057-4de6-9c21-cdfca7df4863",
     "showTitle": false,
     "tableResultSettingsMap": {},
     "title": ""
    }
   },
   "source": [
    "####\n",
    "========================================================================================================\n",
    "                     DDL Script: Create Bronze Tables\n",
    "========================================================================================================\n",
    "Script Purpose:\n",
    "    This script creates tables in the 'bronze' schema, dropping existing tables \n",
    "    if they already exist.\n",
    "\t  Run this script to re-define the DDL structure of 'bronze' Tables\n",
    "=======================================================================================================\n"
   ]
  },
  {
   "cell_type": "code",
   "execution_count": 0,
   "metadata": {
    "application/vnd.databricks.v1+cell": {
     "cellMetadata": {
      "byteLimit": 2048000,
      "implicitDf": true,
      "rowLimit": 10000
     },
     "inputWidgets": {},
     "nuid": "9edb3d76-ea6c-48c1-b92a-c3a773c2f276",
     "showTitle": false,
     "tableResultSettingsMap": {},
     "title": ""
    }
   },
   "outputs": [],
   "source": [
    "%sql\n",
    "CREATE TABLE if not EXISTS bronze.crm_cust_info (\n",
    "    cst_id              INT,\n",
    "    cst_key             VARCHAR(50),\n",
    "    cst_firstname       VARCHAR(50),\n",
    "    cst_lastname        VARCHAR(50),\n",
    "    cst_marital_status  VARCHAR(50),\n",
    "    cst_gndr            VARCHAR(50),\n",
    "    cst_create_date     DATE\n",
    ");"
   ]
  },
  {
   "cell_type": "code",
   "execution_count": 0,
   "metadata": {
    "application/vnd.databricks.v1+cell": {
     "cellMetadata": {
      "byteLimit": 2048000,
      "implicitDf": true,
      "rowLimit": 10000
     },
     "inputWidgets": {},
     "nuid": "7e7f8ab7-cb4b-4ef8-950a-494b681231c2",
     "showTitle": false,
     "tableResultSettingsMap": {},
     "title": ""
    }
   },
   "outputs": [],
   "source": [
    "%sql\n",
    "CREATE TABLE IF NOT EXISTS bronze.crm_prd_info (\n",
    "    prd_id       INT,\n",
    "    prd_key      VARCHAR(50),\n",
    "    prd_nm       VARCHAR(50),\n",
    "    prd_cost     INT,\n",
    "    prd_line     VARCHAR(50),\n",
    "    prd_start_dt TIMESTAMP,\n",
    "    prd_end_dt   TIMESTAMP\n",
    ");"
   ]
  },
  {
   "cell_type": "code",
   "execution_count": 0,
   "metadata": {
    "application/vnd.databricks.v1+cell": {
     "cellMetadata": {
      "byteLimit": 2048000,
      "implicitDf": true,
      "rowLimit": 10000
     },
     "inputWidgets": {},
     "nuid": "fbe8e5eb-82e4-4bf9-bfd0-bac5d116ae94",
     "showTitle": false,
     "tableResultSettingsMap": {},
     "title": ""
    }
   },
   "outputs": [],
   "source": [
    "%sql\n",
    "CREATE TABLE IF NOT EXISTS bronze.crm_sales_details (\n",
    "    sls_ord_num  VARCHAR(50),\n",
    "    sls_prd_key  VARCHAR(50),\n",
    "    sls_cust_id  INT,\n",
    "    sls_order_dt INT,\n",
    "    sls_ship_dt  INT,\n",
    "    sls_due_dt   INT,\n",
    "    sls_sales    INT,\n",
    "    sls_quantity INT,\n",
    "    sls_price    INT\n",
    ");"
   ]
  },
  {
   "cell_type": "code",
   "execution_count": 0,
   "metadata": {
    "application/vnd.databricks.v1+cell": {
     "cellMetadata": {
      "byteLimit": 2048000,
      "implicitDf": true,
      "rowLimit": 10000
     },
     "inputWidgets": {},
     "nuid": "2e622314-fef3-4e6c-983a-3bcb0957d988",
     "showTitle": false,
     "tableResultSettingsMap": {},
     "title": ""
    }
   },
   "outputs": [],
   "source": [
    "%sql\n",
    "CREATE TABLE IF NOT EXISTS bronze.erp_loc_a101 (\n",
    "    cid    VARCHAR(50),\n",
    "    cntry  VARCHAR(50)\n",
    ");"
   ]
  },
  {
   "cell_type": "code",
   "execution_count": 0,
   "metadata": {
    "application/vnd.databricks.v1+cell": {
     "cellMetadata": {
      "byteLimit": 2048000,
      "implicitDf": true,
      "rowLimit": 10000
     },
     "inputWidgets": {},
     "nuid": "f9cf97b9-6d36-41f2-805a-a92f0036e6e4",
     "showTitle": false,
     "tableResultSettingsMap": {},
     "title": ""
    }
   },
   "outputs": [],
   "source": [
    "%sql\n",
    "CREATE TABLE IF NOT EXISTS bronze.erp_cust_az12 (\n",
    "    cid    VARCHAR(50),\n",
    "    bdate  DATE,\n",
    "    gen    VARCHAR(50)\n",
    ");"
   ]
  },
  {
   "cell_type": "code",
   "execution_count": 0,
   "metadata": {
    "application/vnd.databricks.v1+cell": {
     "cellMetadata": {
      "byteLimit": 2048000,
      "implicitDf": true,
      "rowLimit": 10000
     },
     "inputWidgets": {},
     "nuid": "1407b5ef-e65b-46cb-a51b-0833df0acd03",
     "showTitle": false,
     "tableResultSettingsMap": {},
     "title": ""
    }
   },
   "outputs": [],
   "source": [
    "%sql\n",
    "CREATE TABLE IF NOT EXISTS bronze.erp_px_cat_g1v2 (\n",
    "    id           VARCHAR(50),\n",
    "    cat          VARCHAR(50),\n",
    "    subcat       VARCHAR(50),\n",
    "    maintenance  VARCHAR(50)\n",
    ");"
   ]
  }
 ],
 "metadata": {
  "application/vnd.databricks.v1+notebook": {
   "computePreferences": null,
   "dashboards": [],
   "environmentMetadata": {
    "base_environment": "",
    "environment_version": "2"
   },
   "inputWidgetPreferences": null,
   "language": "python",
   "notebookMetadata": {
    "mostRecentlyExecutedCommandWithImplicitDF": {
     "commandId": 5688896782356201,
     "dataframes": [
      "_sqldf"
     ]
    },
    "pythonIndentUnit": 4
   },
   "notebookName": "Create_bronze_layer",
   "widgets": {}
  },
  "language_info": {
   "name": "python"
  }
 },
 "nbformat": 4,
 "nbformat_minor": 0
}
